{
 "cells": [
  {
   "cell_type": "code",
   "execution_count": 20,
   "metadata": {},
   "outputs": [],
   "source": [
    "import torch\n",
    "import torch.nn as nn\n",
    "import torch.nn.functional as F\n",
    "import numpy as np\n",
    "import matplotlib.pyplot as plt\n",
    "from sbi.inference import (\n",
    "    likelihood_estimator_based_potential,\n",
    "    SNPE,\n",
    "    prepare_for_sbi,\n",
    "    simulate_for_sbi,\n",
    "    VIPosterior,\n",
    ")\n",
    "from sbi import utils as utils\n",
    "from sbi import analysis as analysis\n",
    "\n",
    "_ = torch.manual_seed(0)"
   ]
  },
  {
   "cell_type": "code",
   "execution_count": 13,
   "metadata": {},
   "outputs": [],
   "source": [
    "num_dim = 2\n",
    "prior = utils.BoxUniform(low=[4.2,0.005], high=[5.8,0.025])"
   ]
  },
  {
   "cell_type": "code",
   "execution_count": 14,
   "metadata": {},
   "outputs": [],
   "source": [
    "def generate_ar1_time_series(theta):\n",
    "    time_series = np.zeros(length)\n",
    "    time_series[0] = x_0\n",
    "    for t in range(1, length):\n",
    "        noise = np.random.normal(0, theta[1])\n",
    "        time_series[t] =  theta[0] * time_series[t - 1]**2 * (1-time_series[t - 1]) + noise\n",
    "    return time_series"
   ]
  },
  {
   "cell_type": "code",
   "execution_count": 15,
   "metadata": {},
   "outputs": [],
   "source": [
    "length = 200\n",
    "x_0 = 0.25\n",
    "simulator, prior = prepare_for_sbi(generate_ar1_time_series, prior)"
   ]
  },
  {
   "cell_type": "code",
   "execution_count": 9,
   "metadata": {},
   "outputs": [],
   "source": [
    "c = 5.3\n",
    "noise_std = 0.015\n",
    "\n",
    "x_o = generate_ar1_time_series([c, noise_std])"
   ]
  },
  {
   "cell_type": "code",
   "execution_count": 16,
   "metadata": {},
   "outputs": [
    {
     "data": {
      "text/plain": [
       "[<matplotlib.lines.Line2D at 0x2aebd0400>]"
      ]
     },
     "execution_count": 16,
     "metadata": {},
     "output_type": "execute_result"
    },
    {
     "data": {
      "image/png": "[encoded data removed]",
      "text/plain": [
       "<Figure size 640x480 with 1 Axes>"
      ]
     },
     "metadata": {},
     "output_type": "display_data"
    }
   ],
   "source": [
    "plt.plot(x_o, label='Time Series Data', color='blue', marker='o', linestyle='-')"
   ]
  },
  {
   "cell_type": "code",
   "execution_count": 18,
   "metadata": {},
   "outputs": [],
   "source": [
    "class SummaryNet(nn.Module):\n",
    "    \n",
    "    def __init__(self,\n",
    "                 in_channels = (1, 8, 16),\n",
    "                 out_channels = (8, 16, 32),\n",
    "                 kernel_sizes =  (5, 2, 5), \n",
    "                 padding = (0,0,0),\n",
    "                 encoded_space_dim = 3, \n",
    "                 drop_p = 0.5,\n",
    "                 act = nn.LeakyReLU,\n",
    "                 seq_length = 200,\n",
    "                 linear = 10,\n",
    "                ):\n",
    "        \"\"\"\n",
    "        Convolutional Network with three convolutional and two dense layers\n",
    "        Args:\n",
    "            in_channels : inputs channels\n",
    "            out_channels : output channels\n",
    "            kernel_sizes : kernel sizes\n",
    "            padding : padding added to edges\n",
    "            encoded_space_dim : dimension of encoded space\n",
    "            drop_p : dropout probability\n",
    "            act : activation function\n",
    "            seq_len : length of input sequences \n",
    "            weight_decay : l2 regularization constant\n",
    "            linea : linear layer units\n",
    "        \"\"\"\n",
    "        super().__init__()\n",
    "    \n",
    "        # Retrieve parameters\n",
    "        self.in_channels = in_channels #tuple of int, input channels for convolutional layers\n",
    "        self.out_channels = out_channels #tuple of int, of output channels \n",
    "        self.kernel_sizes = kernel_sizes #tuple of tuples of int kernel size, single integer or tuple itself\n",
    "        self.padding = padding\n",
    "        self.encoded_space_dim = encoded_space_dim\n",
    "        self.drop_p = drop_p\n",
    "        self.act = act\n",
    "        self.seq_length = seq_length\n",
    "        self.linear = linear \n",
    "        self.pool_division = 4\n",
    " \n",
    "      \n",
    "        ### Network architecture\n",
    "        # First convolutional layer (2d convolutional layer\n",
    "        self.first_conv = nn.Sequential(\n",
    "            nn.Conv1d(self.in_channels[0], self.out_channels[0], self.kernel_sizes[0], padding=self.padding[0]), \n",
    "            #nn.BatchNorm1d(self.out_channels[0]),\n",
    "            self.act(inplace = True),\n",
    "            nn.Dropout(self.drop_p, inplace = False),\n",
    "            nn.AvgPool1d(self.pool_division)\n",
    "        )\n",
    "        \n",
    "        # Second convolution layer\n",
    "        self.second_conv = nn.Sequential(\n",
    "            nn.Conv1d(self.in_channels[1], self.out_channels[1], self.kernel_sizes[1], padding=self.padding[1]), \n",
    "            #nn.BatchNorm1d(self.out_channels[1]),\n",
    "            self.act(inplace = True),\n",
    "            nn.Dropout(self.drop_p, inplace = False),\n",
    "            nn.AvgPool1d(self.pool_division)\n",
    "        )\n",
    "        \n",
    "        # Third convolutional layer\n",
    "        self.third_conv = nn.Sequential(\n",
    "            nn.Conv1d(self.in_channels[2], self.out_channels[2], self.kernel_sizes[2], padding=self.padding[2]), \n",
    "            #nn.BatchNorm1d(self.out_channels[2]),\n",
    "            self.act(inplace = True),\n",
    "            nn.Dropout(self.drop_p, inplace = False),\n",
    "            nn.AvgPool1d(self.pool_division)\n",
    "        )\n",
    "\n",
    "\n",
    "        # Flatten layer\n",
    "        self.flatten = nn.Flatten(start_dim=-2)\n",
    "        \n",
    "        # Liner dimension after 2 convolutional layers\n",
    "        self.lin_dim = int((((self.seq_length-self.kernel_sizes[0]+1)/self.pool_division+1-self.kernel_sizes[1])/self.pool_division+1-self.kernel_sizes[2])/self.pool_division)\n",
    "        \n",
    "        # linear encoder\n",
    "        self.encoder_lin= nn.Sequential(\n",
    "                # First linear layer\n",
    "                nn.Linear(self.out_channels[2]*self.lin_dim, self.linear),\n",
    "                #nn.BatchNorm1d(self.linear),\n",
    "                self.act(inplace = True),\n",
    "                nn.Dropout(self.drop_p, inplace = False),\n",
    "                # Second linear layer\n",
    "                nn.Linear(self.linear, self.encoded_space_dim)\n",
    "            )\n",
    "        # # normalizing latent space layer\n",
    "        #self.normalize_enc = nn.BatchNorm1d(self.encoded_space_dim)\n",
    "\n",
    "\n",
    "\n",
    "    def forward(self, x):\n",
    "        x =x.view(-1,1,200)\n",
    "        x = self.first_conv(x)\n",
    "        x = self.second_conv(x)\n",
    "        x = self.third_conv(x)\n",
    "        x = self.flatten(x)\n",
    "        x = self.encoder_lin(x)\n",
    "        return x.view(-1,3)\n",
    "        #return x.squeeze()\n",
    "    \n",
    "embedding_net = SummaryNet()\n"
   ]
  },
  {
   "cell_type": "code",
   "execution_count": 21,
   "metadata": {},
   "outputs": [],
   "source": [
    "# instantiate the neural density estimator\n",
    "neural_posterior = utils.posterior_nn(\n",
    "    model=\"maf\", embedding_net=embedding_net, hidden_features=10, num_transforms=2\n",
    ")\n",
    "\n",
    "# setup the inference procedure with the SNPE-C procedure\n",
    "inference = SNPE(prior=prior, density_estimator=neural_posterior)"
   ]
  },
  {
   "cell_type": "code",
   "execution_count": 12,
   "metadata": {},
   "outputs": [
    {
     "data": {
      "application/vnd.jupyter.widget-view+json": {
       "model_id": "a281ee15d4534ed9b80a2734651cac85",
       "version_major": 2,
       "version_minor": 0
      },
      "text/plain": [
       "Running 500 simulations.:   0%|          | 0/500 [00:00<?, ?it/s]"
      ]
     },
     "metadata": {},
     "output_type": "display_data"
    },
    {
     "name": "stdout",
     "output_type": "stream",
     "text": [
      " Neural network successfully converged after 512 epochs."
     ]
    },
    {
     "data": {
      "application/vnd.jupyter.widget-view+json": {
       "model_id": "640d29e5a01d4d1692e914e229fa47c8",
       "version_major": 2,
       "version_minor": 0
      },
      "text/plain": [
       "  0%|          | 0/2000 [00:00<?, ?it/s]"
      ]
     },
     "metadata": {},
     "output_type": "display_data"
    },
    {
     "name": "stdout",
     "output_type": "stream",
     "text": [
      "Quality Score: -0.578 \t Good: Smaller than 0.5  Bad: Larger than 1.0 \t         NOTE: Less sensitive to mode collapse.\n"
     ]
    },
    {
     "data": {
      "application/vnd.jupyter.widget-view+json": {
       "model_id": "738f8f2f2b324393bfea504b2229c4d5",
       "version_major": 2,
       "version_minor": 0
      },
      "text/plain": [
       "Running 500 simulations.:   0%|          | 0/500 [00:00<?, ?it/s]"
      ]
     },
     "metadata": {},
     "output_type": "display_data"
    },
    {
     "name": "stdout",
     "output_type": "stream",
     "text": [
      " Neural network successfully converged after 140 epochs."
     ]
    },
    {
     "data": {
      "application/vnd.jupyter.widget-view+json": {
       "model_id": "3e3ab80ec1174235b61fdaea5a56c166",
       "version_major": 2,
       "version_minor": 0
      },
      "text/plain": [
       "  0%|          | 0/2000 [00:00<?, ?it/s]"
      ]
     },
     "metadata": {},
     "output_type": "display_data"
    },
    {
     "name": "stdout",
     "output_type": "stream",
     "text": [
      "Quality Score: -0.622 \t Good: Smaller than 0.5  Bad: Larger than 1.0 \t         NOTE: Less sensitive to mode collapse.\n"
     ]
    },
    {
     "data": {
      "application/vnd.jupyter.widget-view+json": {
       "model_id": "dbe6096af84c4263931358076f58419a",
       "version_major": 2,
       "version_minor": 0
      },
      "text/plain": [
       "Running 500 simulations.:   0%|          | 0/500 [00:00<?, ?it/s]"
      ]
     },
     "metadata": {},
     "output_type": "display_data"
    },
    {
     "name": "stdout",
     "output_type": "stream",
     "text": [
      " Neural network successfully converged after 78 epochs."
     ]
    },
    {
     "data": {
      "application/vnd.jupyter.widget-view+json": {
       "model_id": "4dfda1889cbb40108fbd02d1bd588ecd",
       "version_major": 2,
       "version_minor": 0
      },
      "text/plain": [
       "  0%|          | 0/2000 [00:00<?, ?it/s]"
      ]
     },
     "metadata": {},
     "output_type": "display_data"
    },
    {
     "name": "stdout",
     "output_type": "stream",
     "text": [
      "Quality Score: -0.446 \t Good: Smaller than 0.5  Bad: Larger than 1.0 \t         NOTE: Less sensitive to mode collapse.\n"
     ]
    }
   ],
   "source": [
    "num_rounds = 3\n",
    "\n",
    "posteriors = []\n",
    "proposal = prior\n",
    "\n",
    "for _ in range(num_rounds):\n",
    "    theta, x = simulate_for_sbi(simulator, proposal, num_simulations=2000)\n",
    "    likelihood_estimator = inference.append_simulations(\n",
    "        theta, x,\n",
    "    ).train()\n",
    "    potential_fn, theta_transform = likelihood_estimator_based_potential(\n",
    "        likelihood_estimator, prior, x_o\n",
    "    )\n",
    "\n",
    "    posterior = VIPosterior(\n",
    "        potential_fn, prior, \"maf\", theta_transform, vi_method=\"fKL\",\n",
    "    ).train()\n",
    "    posteriors.append(posterior)\n",
    "    proposal = posterior"
   ]
  }
 ],
 "metadata": {
  "kernelspec": {
   "display_name": "sbi_env",
   "language": "python",
   "name": "python3"
  },
  "language_info": {
   "codemirror_mode": {
    "name": "ipython",
    "version": 3
   },
   "file_extension": ".py",
   "mimetype": "text/x-python",
   "name": "python",
   "nbconvert_exporter": "python",
   "pygments_lexer": "ipython3",
   "version": "3.9.18"
  },
  "orig_nbformat": 4
 },
 "nbformat": 4,
 "nbformat_minor": 2
}
