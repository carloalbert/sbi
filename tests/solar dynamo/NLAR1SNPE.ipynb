{
 "cells": [
  {
   "cell_type": "markdown",
   "metadata": {},
   "source": [
    "# Toy: AR1 model"
   ]
  },
  {
   "cell_type": "markdown",
   "metadata": {},
   "source": [
    "Note, you can find the original version of this notebook at [https://github.com/mackelab/sbi/blob/main/tutorials/02_flexible_interface.ipynb](https://github.com/mackelab/sbi/blob/main/tutorials/02_flexible_interface.ipynb) in the `sbi` repository."
   ]
  },
  {
   "cell_type": "markdown",
   "metadata": {},
   "source": [
    "## Main syntax"
   ]
  },
  {
   "cell_type": "markdown",
   "metadata": {},
   "source": [
    "```Python\n",
    "from sbi.inference import SNPE, prepare_for_sbi, simulate_for_sbi\n",
    "\n",
    "simulator, prior = prepare_for_sbi(simulator, prior)\n",
    "inference = SNPE(prior)\n",
    "\n",
    "theta, x = simulate_for_sbi(simulator, proposal=prior, num_simulations=1000)\n",
    "density_estimator = inference.append_simulations(theta, x).train()\n",
    "posterior = inference.build_posterior(density_estimator)\n",
    "```"
   ]
  },
  {
   "cell_type": "code",
   "execution_count": 1,
   "metadata": {},
   "outputs": [
    {
     "name": "stderr",
     "output_type": "stream",
     "text": [
      "/Users/albertca/miniconda3/envs/sbi_env/lib/python3.9/site-packages/tqdm/auto.py:21: TqdmWarning: IProgress not found. Please update jupyter and ipywidgets. See https://ipywidgets.readthedocs.io/en/stable/user_install.html\n",
      "  from .autonotebook import tqdm as notebook_tqdm\n"
     ]
    },
    {
     "data": {
      "text/plain": [
       "<torch._C.Generator at 0x138d2e450>"
      ]
     },
     "execution_count": 1,
     "metadata": {},
     "output_type": "execute_result"
    }
   ],
   "source": [
    "import matplotlib.pyplot as plt\n",
    "import torch\n",
    "import numpy as np\n",
    "import torch.nn as nn\n",
    "import torch.nn.functional as F\n",
    "from sbi import utils\n",
    "from sbi import analysis\n",
    "from sbi import inference\n",
    "from sbi.inference import SNPE, simulate_for_sbi, prepare_for_sbi\n",
    "\n",
    "seed = 0\n",
    "torch.manual_seed(seed)"
   ]
  },
  {
   "cell_type": "code",
   "execution_count": 24,
   "metadata": {},
   "outputs": [
    {
     "name": "stdout",
     "output_type": "stream",
     "text": [
      "tensor([1.], device='mps:0')\n"
     ]
    }
   ],
   "source": [
    "# import torch\n",
    "# if torch.backends.mps.is_available():\n",
    "#     mps_device = torch.device(\"mps\")\n",
    "#     x = torch.ones(1, device=mps_device)\n",
    "#     print (x)\n",
    "# else:\n",
    "#     print (\"MPS device not found.\")\n",
    "# prior = torch.distributions.Uniform(torch.tensor([0.0,0.0], device=\"mps:0\"), torch.tensor([1.0,1.0], device=\"mps:0\"))\n",
    "# inference = SNPE(prior=prior, device=\"mps:0\", density_estimator=neural_posterior)"
   ]
  },
  {
   "cell_type": "code",
   "execution_count": 2,
   "metadata": {},
   "outputs": [],
   "source": [
    "num_dim = 2\n",
    "prior = utils.BoxUniform(low=[4.2,0.005], high=[5.8,0.025])"
   ]
  },
  {
   "cell_type": "code",
   "execution_count": 3,
   "metadata": {},
   "outputs": [],
   "source": [
    "def generate_ar1_time_series(theta):\n",
    "    time_series = np.zeros(length)\n",
    "    time_series[0] = x_0\n",
    "    for t in range(1, length):\n",
    "        noise = np.random.normal(0, theta[1])\n",
    "        time_series[t] =  theta[0] * time_series[t - 1]**2 * (1-time_series[t - 1]) + noise\n",
    "    return time_series"
   ]
  },
  {
   "cell_type": "code",
   "execution_count": 4,
   "metadata": {},
   "outputs": [],
   "source": [
    "length = 200\n",
    "x_0 = 0.25\n",
    "simulator, prior = prepare_for_sbi(generate_ar1_time_series, prior)"
   ]
  },
  {
   "cell_type": "code",
   "execution_count": 5,
   "metadata": {},
   "outputs": [],
   "source": [
    "# class SummaryNet(nn.Module):\n",
    "    \n",
    "#     def __init__(self,\n",
    "#                  in_channels = (1, 8, 16),\n",
    "#                  out_channels = (8, 16, 32),\n",
    "#                  kernel_sizes =  (5, 2, 5), \n",
    "#                  padding = (0,0,0),\n",
    "#                  encoded_space_dim = 3, \n",
    "#                  drop_p = 0.5,\n",
    "#                  act = nn.LeakyReLU,\n",
    "#                  seq_length = 200,\n",
    "#                  linear = 10,\n",
    "#                 ):\n",
    "#         \"\"\"\n",
    "#         Convolutional Network with three convolutional and two dense layers\n",
    "#         Args:\n",
    "#             in_channels : inputs channels\n",
    "#             out_channels : output channels\n",
    "#             kernel_sizes : kernel sizes\n",
    "#             padding : padding added to edges\n",
    "#             encoded_space_dim : dimension of encoded space\n",
    "#             drop_p : dropout probability\n",
    "#             act : activation function\n",
    "#             seq_len : length of input sequences \n",
    "#             weight_decay : l2 regularization constant\n",
    "#             linea : linear layer units\n",
    "#         \"\"\"\n",
    "#         super().__init__()\n",
    "    \n",
    "#         # Retrieve parameters\n",
    "#         self.in_channels = in_channels #tuple of int, input channels for convolutional layers\n",
    "#         self.out_channels = out_channels #tuple of int, of output channels \n",
    "#         self.kernel_sizes = kernel_sizes #tuple of tuples of int kernel size, single integer or tuple itself\n",
    "#         self.padding = padding\n",
    "#         self.encoded_space_dim = encoded_space_dim\n",
    "#         self.drop_p = drop_p\n",
    "#         self.act = act\n",
    "#         self.seq_length = seq_length\n",
    "#         self.linear = linear \n",
    "#         self.pool_division = 4\n",
    " \n",
    "      \n",
    "#         ### Network architecture\n",
    "#         # First convolutional layer (2d convolutional layer\n",
    "#         self.first_conv = nn.Sequential(\n",
    "#             nn.Conv1d(self.in_channels[0], self.out_channels[0], self.kernel_sizes[0], padding=self.padding[0]), \n",
    "#             #nn.BatchNorm1d(self.out_channels[0]),\n",
    "#             self.act(inplace = True),\n",
    "#             nn.Dropout(self.drop_p, inplace = False),\n",
    "#             nn.AvgPool1d(self.pool_division)\n",
    "#         )\n",
    "        \n",
    "#         # Second convolution layer\n",
    "#         self.second_conv = nn.Sequential(\n",
    "#             nn.Conv1d(self.in_channels[1], self.out_channels[1], self.kernel_sizes[1], padding=self.padding[1]), \n",
    "#             #nn.BatchNorm1d(self.out_channels[1]),\n",
    "#             self.act(inplace = True),\n",
    "#             nn.Dropout(self.drop_p, inplace = False),\n",
    "#             nn.AvgPool1d(self.pool_division)\n",
    "#         )\n",
    "        \n",
    "#         # Third convolutional layer\n",
    "#         self.third_conv = nn.Sequential(\n",
    "#             nn.Conv1d(self.in_channels[2], self.out_channels[2], self.kernel_sizes[2], padding=self.padding[2]), \n",
    "#             #nn.BatchNorm1d(self.out_channels[2]),\n",
    "#             self.act(inplace = True),\n",
    "#             nn.Dropout(self.drop_p, inplace = False),\n",
    "#             nn.AvgPool1d(self.pool_division)\n",
    "#         )\n",
    "\n",
    "\n",
    "#         # Flatten layer\n",
    "#         self.flatten = nn.Flatten(start_dim=-2)\n",
    "        \n",
    "#         # Liner dimension after 2 convolutional layers\n",
    "#         self.lin_dim = int((((self.seq_length-self.kernel_sizes[0]+1)/self.pool_division+1-self.kernel_sizes[1])/self.pool_division+1-self.kernel_sizes[2])/self.pool_division)\n",
    "        \n",
    "#         # linear encoder\n",
    "#         self.encoder_lin= nn.Sequential(\n",
    "#                 # First linear layer\n",
    "#                 nn.Linear(self.out_channels[2]*self.lin_dim, self.linear),\n",
    "#                 #nn.BatchNorm1d(self.linear),\n",
    "#                 self.act(inplace = True),\n",
    "#                 nn.Dropout(self.drop_p, inplace = False),\n",
    "#                 # Second linear layer\n",
    "#                 nn.Linear(self.linear, self.encoded_space_dim)\n",
    "#             )\n",
    "#         # # normalizing latent space layer\n",
    "#         #self.normalize_enc = nn.BatchNorm1d(self.encoded_space_dim)\n",
    "\n",
    "\n",
    "\n",
    "#     def forward(self, x):\n",
    "#         x =x.view(-1,1,200)\n",
    "#         x = self.first_conv(x)\n",
    "#         x = self.second_conv(x)\n",
    "#         x = self.third_conv(x)\n",
    "#         x = self.flatten(x)\n",
    "#         x = self.encoder_lin(x)\n",
    "#         return x.view(-1,3)\n",
    "#         #return x.squeeze()\n",
    "    \n",
    "# embedding_net = SummaryNet()\n"
   ]
  },
  {
   "cell_type": "code",
   "execution_count": 48,
   "metadata": {},
   "outputs": [],
   "source": [
    "input_size = 200\n",
    "num_classes = 3\n",
    "\n",
    "class SummaryNet(nn.Module):\n",
    "    def __init__(self):\n",
    "        super().__init__()\n",
    "        # 1D convolutional layer\n",
    "        self.conv = nn.Conv1d(in_channels=1, out_channels=6, kernel_size=5, padding=2)\n",
    "        # Maxpool layer\n",
    "        self.pool = nn.MaxPool1d(kernel_size=4, stride = 4)\n",
    "        # Fully connected layer\n",
    "        self.fc = nn.Linear(in_features=6 * (input_size // 4), out_features=num_classes)\n",
    "\n",
    "    def forward(self, x):\n",
    "        # Assuming x is of shape (batch_size, 1, input_size)\n",
    "        x =x.view(-1,1,200)\n",
    "        x = self.conv(x)\n",
    "        x = self.pool(x)\n",
    "        # Flatten the output before passing it to the fully connected layer\n",
    "        x = x.view(-1,6*50)\n",
    "        x = self.fc(x)\n",
    "        return x\n",
    "\n",
    "embedding_net = SummaryNet()\n"
   ]
  },
  {
   "cell_type": "code",
   "execution_count": 10,
   "metadata": {},
   "outputs": [],
   "source": [
    "# class Encoder(nn.Module):\n",
    "#     \"\"\"\n",
    "#     Pytorch implementation of ENCA encoder from Albert et al., 2022\n",
    "#     \"\"\"\n",
    "    \n",
    "#     def __init__(self,\n",
    "#                  seq_len: 200,\n",
    "#                  encoded_space_dim = 3, \n",
    "#                  drop_p = 0.5,\n",
    "#                  act = nn.LeakyReLU,\n",
    "#                 ):\n",
    "#         \"\"\"\n",
    "#         Convolutional Network with 5 convolutional layers, maxpool and avgpool \n",
    "#         Args:\n",
    "#             seq_len: length of the sequence\n",
    "#             encoded_space_dim: dimension of encoded space\n",
    "#             drop_p: dropout probability\n",
    "#             act: activation function\n",
    "#         \"\"\"\n",
    "#         super().__init__()\n",
    "    \n",
    "#         # Retrieve parameters\n",
    "#         self.seq_len = seq_len\n",
    "#         self.encoded_space_dim = encoded_space_dim\n",
    "#         self.drop_p = drop_p\n",
    "#         self.act = act\n",
    "\n",
    "      \n",
    "#         ### Network architecture\n",
    "#         self.first_block = nn.Sequential(\n",
    "#             nn.Conv1d(1, 16, 3), \n",
    "#             self.act(inplace = True),\n",
    "#             nn.Dropout(self.drop_p, inplace = False),\n",
    "#             nn.Conv1d(16, 16, 3), \n",
    "#             self.act(inplace = True),\n",
    "#             nn.Dropout(self.drop_p, inplace = False),\n",
    "#             nn.MaxPool1d(2)\n",
    "#         )\n",
    "        \n",
    "#         self.second_block = nn.Sequential(\n",
    "#             nn.Conv1d(16, 32, 3), \n",
    "#             self.act(inplace = True),\n",
    "#             nn.Dropout(self.drop_p, inplace = False),\n",
    "#             nn.Conv1d(32, 32, 3), \n",
    "#             self.act(inplace = True),\n",
    "#             nn.Dropout(self.drop_p, inplace = False),\n",
    "#             nn.Conv1d(32, self.encoded_space_dim, 3), \n",
    "#             nn.AvgPool1d(int((self.seq_len-4)/2-6)),\n",
    "#         )\n",
    "#         self.flatten = nn.Flatten(start_dim=1)\n",
    "\n",
    "#     def forward(self, x):\n",
    "#         x =x.view(-1,1,self.seq_len)\n",
    "#         x = self.first_block(x)\n",
    "#         x = self.second_block(x)\n",
    "#         x = self.flatten(x)\n",
    "#         return x\n",
    "    \n",
    "# embedding_net = Encoder(seq_len=200, encoded_space_dim=3, drop_p=0.5, act=nn.LeakyReLU)"
   ]
  },
  {
   "cell_type": "code",
   "execution_count": 49,
   "metadata": {},
   "outputs": [],
   "source": [
    "# instantiate the neural density estimator\n",
    "neural_posterior = utils.posterior_nn(\n",
    "    model=\"maf\", embedding_net=embedding_net, hidden_features=10, num_transforms=2\n",
    ")\n",
    "\n",
    "# setup the inference procedure with the SNPE-C procedure\n",
    "inference = SNPE(prior=prior, density_estimator=neural_posterior)"
   ]
  },
  {
   "cell_type": "code",
   "execution_count": 52,
   "metadata": {},
   "outputs": [
    {
     "data": {
      "text/plain": [
       "[<matplotlib.lines.Line2D at 0x2bbe47340>]"
      ]
     },
     "execution_count": 52,
     "metadata": {},
     "output_type": "execute_result"
    },
    {
     "data": {
      "image/png": "[encoded data removed]",
      "text/plain": [
       "<Figure size 640x480 with 1 Axes>"
      ]
     },
     "metadata": {},
     "output_type": "display_data"
    }
   ],
   "source": [
    "# Example usage:\n",
    "c = 5.3\n",
    "noise_std = 0.015  # Standard deviation of the additive noise\n",
    "\n",
    "x_o = generate_ar1_time_series([c, noise_std])\n",
    "plt.plot(x_o, label='Time Series Data', color='blue', marker='o', linestyle='-')"
   ]
  },
  {
   "cell_type": "code",
   "execution_count": 53,
   "metadata": {},
   "outputs": [
    {
     "name": "stderr",
     "output_type": "stream",
     "text": [
      "Running 1000 simulations.: 100%|██████████| 1000/1000 [00:02<00:00, 462.67it/s]\n"
     ]
    },
    {
     "name": "stdout",
     "output_type": "stream",
     "text": [
      " Neural network successfully converged after 262 epochs."
     ]
    },
    {
     "name": "stderr",
     "output_type": "stream",
     "text": [
      "Drawing 1000 posterior samples: 1070it [00:00, 354187.14it/s]           \n",
      "Running 1000 simulations.: 100%|██████████| 1000/1000 [00:02<00:00, 474.30it/s]\n"
     ]
    },
    {
     "name": "stdout",
     "output_type": "stream",
     "text": [
      "Using SNPE-C with atomic loss\n",
      " Neural network successfully converged after 57 epochs."
     ]
    },
    {
     "name": "stderr",
     "output_type": "stream",
     "text": [
      "Drawing 1000 posterior samples: 1146it [00:00, 291897.27it/s]           \n",
      "Running 1000 simulations.: 100%|██████████| 1000/1000 [00:02<00:00, 470.95it/s]\n"
     ]
    },
    {
     "name": "stdout",
     "output_type": "stream",
     "text": [
      "Using SNPE-C with atomic loss\n",
      " Neural network successfully converged after 61 epochs."
     ]
    },
    {
     "name": "stderr",
     "output_type": "stream",
     "text": [
      "Drawing 1000 posterior samples: 1255it [00:00, 337642.82it/s]           \n",
      "Running 1000 simulations.: 100%|██████████| 1000/1000 [00:02<00:00, 468.56it/s]\n"
     ]
    },
    {
     "name": "stdout",
     "output_type": "stream",
     "text": [
      "Using SNPE-C with atomic loss\n",
      " Neural network successfully converged after 39 epochs."
     ]
    },
    {
     "name": "stderr",
     "output_type": "stream",
     "text": [
      "Drawing 1000 posterior samples: 1239it [00:00, 273268.27it/s]           \n",
      "Running 1000 simulations.: 100%|██████████| 1000/1000 [00:02<00:00, 471.78it/s]\n"
     ]
    },
    {
     "name": "stdout",
     "output_type": "stream",
     "text": [
      "Using SNPE-C with atomic loss\n",
      " Neural network successfully converged after 44 epochs."
     ]
    },
    {
     "name": "stderr",
     "output_type": "stream",
     "text": [
      "Drawing 1000 posterior samples: 1314it [00:00, 297025.89it/s]           \n",
      "Running 1000 simulations.: 100%|██████████| 1000/1000 [00:02<00:00, 471.99it/s]\n"
     ]
    },
    {
     "name": "stdout",
     "output_type": "stream",
     "text": [
      "Using SNPE-C with atomic loss\n",
      " Neural network successfully converged after 48 epochs."
     ]
    },
    {
     "name": "stderr",
     "output_type": "stream",
     "text": [
      "Drawing 1000 posterior samples: 1388it [00:00, 264382.10it/s]           \n",
      "Running 1000 simulations.: 100%|██████████| 1000/1000 [00:02<00:00, 470.16it/s]\n"
     ]
    },
    {
     "name": "stdout",
     "output_type": "stream",
     "text": [
      "Using SNPE-C with atomic loss\n",
      " Neural network successfully converged after 29 epochs."
     ]
    },
    {
     "name": "stderr",
     "output_type": "stream",
     "text": [
      "Drawing 1000 posterior samples: 1433it [00:00, 312750.42it/s]           \n",
      "Running 1000 simulations.: 100%|██████████| 1000/1000 [00:02<00:00, 470.30it/s]\n"
     ]
    },
    {
     "name": "stdout",
     "output_type": "stream",
     "text": [
      "Using SNPE-C with atomic loss\n",
      " Neural network successfully converged after 34 epochs."
     ]
    },
    {
     "name": "stderr",
     "output_type": "stream",
     "text": [
      "Drawing 1000 posterior samples: 1344it [00:00, 301693.58it/s]           \n",
      "Running 1000 simulations.: 100%|██████████| 1000/1000 [00:02<00:00, 468.63it/s]\n"
     ]
    },
    {
     "name": "stdout",
     "output_type": "stream",
     "text": [
      "Using SNPE-C with atomic loss\n",
      " Neural network successfully converged after 97 epochs."
     ]
    },
    {
     "name": "stderr",
     "output_type": "stream",
     "text": [
      "Drawing 1000 posterior samples: 100%|██████████| 1000/1000 [00:00<00:00, 537317.96it/s]\n",
      "Running 1000 simulations.: 100%|██████████| 1000/1000 [00:02<00:00, 485.86it/s]\n"
     ]
    },
    {
     "name": "stdout",
     "output_type": "stream",
     "text": [
      "Using SNPE-C with atomic loss\n",
      " Neural network successfully converged after 75 epochs."
     ]
    }
   ],
   "source": [
    "num_rounds = 10\n",
    "# The specific observation we want to focus the inference on.\n",
    "\n",
    "posteriors = []\n",
    "proposal = prior\n",
    "\n",
    "for _ in range(num_rounds):\n",
    "    theta, x = simulate_for_sbi(simulator, proposal, num_simulations=1000)\n",
    "\n",
    "    # In `SNLE` and `SNRE`, you should not pass the `proposal` to `.append_simulations()`\n",
    "    density_estimator = inference.append_simulations(\n",
    "        theta, x, proposal=proposal\n",
    "    ).train()\n",
    "    posterior = inference.build_posterior(density_estimator)\n",
    "    posteriors.append(posterior)\n",
    "    proposal = posterior.set_default_x(x_o)"
   ]
  },
  {
   "cell_type": "code",
   "execution_count": 64,
   "metadata": {},
   "outputs": [
    {
     "name": "stderr",
     "output_type": "stream",
     "text": [
      "Drawing 10000 posterior samples: 100%|██████████| 10000/10000 [00:00<00:00, 901554.93it/s]\n"
     ]
    },
    {
     "data": {
      "image/png": "[encoded data removed]",
      "text/plain": [
       "<Figure size 500x500 with 4 Axes>"
      ]
     },
     "metadata": {},
     "output_type": "display_data"
    }
   ],
   "source": [
    "posterior_samples = posteriors[9].sample((10000,), x=x_o)\n",
    "\n",
    "# plot posterior samples\n",
    "_ = analysis.pairplot(\n",
    "    posterior_samples, limits=[[4.2, 5.8], [0.005, 0.025]], figsize=(5, 5)\n",
    ")"
   ]
  },
  {
   "cell_type": "code",
   "execution_count": 38,
   "metadata": {},
   "outputs": [],
   "source": [
    "AR1PostSampleArray = posterior_samples.numpy()\n",
    "np.savetxt(\"test.txt\", AR1PostSampleArray, delimiter=',')"
   ]
  },
  {
   "cell_type": "code",
   "execution_count": 20,
   "metadata": {},
   "outputs": [
    {
     "name": "stderr",
     "output_type": "stream",
     "text": [
      "/var/folders/20/z4h5cqmd1x7796zjmdj3_lp00000gn/T/ipykernel_68572/3963409060.py:19: UserWarning: Creating a tensor from a list of numpy.ndarrays is extremely slow. Please consider converting the list to a single numpy.ndarray with numpy.array() before converting to a tensor. (Triggered internally at /private/var/folders/nz/j6p8yfhx1mv_0grj5xl4650h0000gp/T/abs_1aidzjezue/croot/pytorch_1687856425340/work/torch/csrc/utils/tensor_new.cpp:248.)\n",
      "  time_series_tensors = torch.tensor(generated_time_series).double()\n"
     ]
    }
   ],
   "source": [
    "from torch.utils.data import DataLoader, TensorDataset\n",
    "\n",
    "# Define the prior distribution\n",
    "low = [4.2, 0.005]\n",
    "high = [5.8, 0.025]\n",
    "\n",
    "# Number of samples\n",
    "num_samples = 1000\n",
    "\n",
    "# Sample from the prior distribution\n",
    "samples = np.random.uniform(low, high, size=(num_samples, len(low)))\n",
    "\n",
    "generated_time_series = []\n",
    "\n",
    "for params in samples:\n",
    "    time_series = generate_ar1_time_series(params)\n",
    "    generated_time_series.append(time_series)\n",
    "\n",
    "time_series_tensors = torch.tensor(generated_time_series).double()"
   ]
  },
  {
   "cell_type": "code",
   "execution_count": 25,
   "metadata": {},
   "outputs": [
    {
     "data": {
      "text/plain": [
       "SummaryNet(\n",
       "  (conv): Conv1d(1, 6, kernel_size=(5,), stride=(1,), padding=(2,))\n",
       "  (pool): MaxPool1d(kernel_size=10, stride=10, padding=0, dilation=1, ceil_mode=False)\n",
       "  (fc): Linear(in_features=120, out_features=3, bias=True)\n",
       ")"
      ]
     },
     "execution_count": 25,
     "metadata": {},
     "output_type": "execute_result"
    }
   ],
   "source": [
    "# Instantiate the Encoder network (assuming your actual instantiation is embedding_net)\n",
    "embedding_net = SummaryNet()\n",
    "embedding_net = embedding_net.double()\n",
    "\n",
    "# Load the learned weights (state_dict) if you have saved them during training\n",
    "# Example: embedding_net.load_state_dict(torch.load('path/to/your/weights.pth'))\n",
    "\n",
    "# Set the network to evaluation mode\n",
    "embedding_net.eval()\n"
   ]
  },
  {
   "cell_type": "code",
   "execution_count": 30,
   "metadata": {},
   "outputs": [],
   "source": [
    "summary_stats = embedding_net(time_series_tensors)\n"
   ]
  },
  {
   "cell_type": "code",
   "execution_count": 40,
   "metadata": {},
   "outputs": [
    {
     "data": {
      "text/plain": [
       "array([[-0.05436645,  0.03368735, -0.34919617],\n",
       "       [-0.05760233,  0.03144644, -0.34612496],\n",
       "       [-0.10492579, -0.06927372, -0.04921519],\n",
       "       ...,\n",
       "       [-0.11986902, -0.06723175, -0.05291661],\n",
       "       [-0.05526761,  0.03886201, -0.34618193],\n",
       "       [-0.05573313,  0.03418021, -0.34832628]])"
      ]
     },
     "execution_count": 40,
     "metadata": {},
     "output_type": "execute_result"
    }
   ],
   "source": [
    "summary_stats.detach().numpy()"
   ]
  },
  {
   "cell_type": "code",
   "execution_count": 41,
   "metadata": {},
   "outputs": [
    {
     "data": {
      "image/png": "[encoded data removed]",
      "text/plain": [
       "<Figure size 640x480 with 1 Axes>"
      ]
     },
     "metadata": {},
     "output_type": "display_data"
    }
   ],
   "source": [
    "from mpl_toolkits.mplot3d import Axes3D\n",
    "\n",
    "# Plotting in 3D\n",
    "fig = plt.figure()\n",
    "ax = fig.add_subplot(111, projection='3d')\n",
    "\n",
    "summary_stats = summary_stats.detach().numpy()\n",
    "\n",
    "# Scatter plot\n",
    "ax.scatter(summary_stats[:, 0], summary_stats[:, 1], summary_stats[:, 2])\n",
    "\n",
    "# ax.set_xlim([-0.05, -0.03])  # Set the X-axis scale\n",
    "# ax.set_ylim([0.0, 0.15])    # Set the Y-axis scale\n",
    "# ax.set_zlim([-0.09, -0.07])  # Set the Z-axis scale\n",
    "\n",
    "# Add labels\n",
    "ax.set_xlabel('X')\n",
    "ax.set_ylabel('Y')\n",
    "ax.set_zlabel('Z')\n",
    "\n",
    "plt.show()\n"
   ]
  }
 ],
 "metadata": {
  "kernelspec": {
   "display_name": "Python 3 (ipykernel)",
   "language": "python",
   "name": "python3"
  },
  "language_info": {
   "codemirror_mode": {
    "name": "ipython",
    "version": 3
   },
   "file_extension": ".py",
   "mimetype": "text/x-python",
   "name": "python",
   "nbconvert_exporter": "python",
   "pygments_lexer": "ipython3",
   "version": "3.9.18"
  }
 },
 "nbformat": 4,
 "nbformat_minor": 4
}
