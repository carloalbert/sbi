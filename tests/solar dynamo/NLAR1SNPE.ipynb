{
 "cells": [
  {
   "cell_type": "markdown",
   "metadata": {},
   "source": [
    "# Toy: AR1 model"
   ]
  },
  {
   "cell_type": "markdown",
   "metadata": {},
   "source": [
    "Note, you can find the original version of this notebook at [https://github.com/mackelab/sbi/blob/main/tutorials/02_flexible_interface.ipynb](https://github.com/mackelab/sbi/blob/main/tutorials/02_flexible_interface.ipynb) in the `sbi` repository."
   ]
  },
  {
   "cell_type": "markdown",
   "metadata": {},
   "source": [
    "## Main syntax"
   ]
  },
  {
   "cell_type": "markdown",
   "metadata": {},
   "source": [
    "```Python\n",
    "from sbi.inference import SNPE, prepare_for_sbi, simulate_for_sbi\n",
    "\n",
    "simulator, prior = prepare_for_sbi(simulator, prior)\n",
    "inference = SNPE(prior)\n",
    "\n",
    "theta, x = simulate_for_sbi(simulator, proposal=prior, num_simulations=1000)\n",
    "density_estimator = inference.append_simulations(theta, x).train()\n",
    "posterior = inference.build_posterior(density_estimator)\n",
    "```"
   ]
  },
  {
   "cell_type": "code",
   "execution_count": 1,
   "metadata": {},
   "outputs": [
    {
     "name": "stderr",
     "output_type": "stream",
     "text": [
      "/Users/albertca/miniconda3/envs/sbi_env/lib/python3.9/site-packages/tqdm/auto.py:21: TqdmWarning: IProgress not found. Please update jupyter and ipywidgets. See https://ipywidgets.readthedocs.io/en/stable/user_install.html\n",
      "  from .autonotebook import tqdm as notebook_tqdm\n"
     ]
    },
    {
     "data": {
      "text/plain": [
       "<torch._C.Generator at 0x117a73470>"
      ]
     },
     "execution_count": 1,
     "metadata": {},
     "output_type": "execute_result"
    }
   ],
   "source": [
    "import matplotlib.pyplot as plt\n",
    "import torch\n",
    "import numpy as np\n",
    "import torch.nn as nn\n",
    "import torch.nn.functional as F\n",
    "from sbi import utils\n",
    "from sbi import analysis\n",
    "from sbi import inference\n",
    "from sbi.inference import SNPE, simulate_for_sbi, prepare_for_sbi\n",
    "\n",
    "seed = 0\n",
    "torch.manual_seed(seed)"
   ]
  },
  {
   "cell_type": "code",
   "execution_count": 24,
   "metadata": {},
   "outputs": [
    {
     "name": "stdout",
     "output_type": "stream",
     "text": [
      "tensor([1.], device='mps:0')\n"
     ]
    }
   ],
   "source": [
    "# import torch\n",
    "# if torch.backends.mps.is_available():\n",
    "#     mps_device = torch.device(\"mps\")\n",
    "#     x = torch.ones(1, device=mps_device)\n",
    "#     print (x)\n",
    "# else:\n",
    "#     print (\"MPS device not found.\")\n",
    "# prior = torch.distributions.Uniform(torch.tensor([0.0,0.0], device=\"mps:0\"), torch.tensor([1.0,1.0], device=\"mps:0\"))\n",
    "# inference = SNPE(prior=prior, device=\"mps:0\", density_estimator=neural_posterior)"
   ]
  },
  {
   "cell_type": "code",
   "execution_count": 2,
   "metadata": {},
   "outputs": [],
   "source": [
    "num_dim = 2\n",
    "prior = utils.BoxUniform(low=[4.2,0.005], high=[5.8,0.025])"
   ]
  },
  {
   "cell_type": "code",
   "execution_count": 3,
   "metadata": {},
   "outputs": [],
   "source": [
    "def generate_ar1_time_series(theta):\n",
    "    time_series = np.zeros(length)\n",
    "    time_series[0] = x_0\n",
    "    for t in range(1, length):\n",
    "        noise = np.random.normal(0, theta[1])\n",
    "        time_series[t] =  theta[0] * time_series[t - 1]**2 * (1-time_series[t - 1]) + noise\n",
    "    return time_series"
   ]
  },
  {
   "cell_type": "code",
   "execution_count": 4,
   "metadata": {},
   "outputs": [],
   "source": [
    "length = 200\n",
    "x_0 = 0.25\n",
    "simulator, prior = prepare_for_sbi(generate_ar1_time_series, prior)"
   ]
  },
  {
   "cell_type": "code",
   "execution_count": 5,
   "metadata": {},
   "outputs": [],
   "source": [
    "class SummaryNet(nn.Module):\n",
    "    \n",
    "    def __init__(self,\n",
    "                 in_channels = (1, 8, 16),\n",
    "                 out_channels = (8, 16, 32),\n",
    "                 kernel_sizes =  (5, 2, 5), \n",
    "                 padding = (0,0,0),\n",
    "                 encoded_space_dim = 3, \n",
    "                 drop_p = 0.5,\n",
    "                 act = nn.LeakyReLU,\n",
    "                 seq_length = 200,\n",
    "                 linear = 10,\n",
    "                ):\n",
    "        \"\"\"\n",
    "        Convolutional Network with three convolutional and two dense layers\n",
    "        Args:\n",
    "            in_channels : inputs channels\n",
    "            out_channels : output channels\n",
    "            kernel_sizes : kernel sizes\n",
    "            padding : padding added to edges\n",
    "            encoded_space_dim : dimension of encoded space\n",
    "            drop_p : dropout probability\n",
    "            act : activation function\n",
    "            seq_len : length of input sequences \n",
    "            weight_decay : l2 regularization constant\n",
    "            linea : linear layer units\n",
    "        \"\"\"\n",
    "        super().__init__()\n",
    "    \n",
    "        # Retrieve parameters\n",
    "        self.in_channels = in_channels #tuple of int, input channels for convolutional layers\n",
    "        self.out_channels = out_channels #tuple of int, of output channels \n",
    "        self.kernel_sizes = kernel_sizes #tuple of tuples of int kernel size, single integer or tuple itself\n",
    "        self.padding = padding\n",
    "        self.encoded_space_dim = encoded_space_dim\n",
    "        self.drop_p = drop_p\n",
    "        self.act = act\n",
    "        self.seq_length = seq_length\n",
    "        self.linear = linear \n",
    "        self.pool_division = 4\n",
    " \n",
    "      \n",
    "        ### Network architecture\n",
    "        # First convolutional layer (2d convolutional layer\n",
    "        self.first_conv = nn.Sequential(\n",
    "            nn.Conv1d(self.in_channels[0], self.out_channels[0], self.kernel_sizes[0], padding=self.padding[0]), \n",
    "            #nn.BatchNorm1d(self.out_channels[0]),\n",
    "            self.act(inplace = True),\n",
    "            nn.Dropout(self.drop_p, inplace = False),\n",
    "            nn.AvgPool1d(self.pool_division)\n",
    "        )\n",
    "        \n",
    "        # Second convolution layer\n",
    "        self.second_conv = nn.Sequential(\n",
    "            nn.Conv1d(self.in_channels[1], self.out_channels[1], self.kernel_sizes[1], padding=self.padding[1]), \n",
    "            #nn.BatchNorm1d(self.out_channels[1]),\n",
    "            self.act(inplace = True),\n",
    "            nn.Dropout(self.drop_p, inplace = False),\n",
    "            nn.AvgPool1d(self.pool_division)\n",
    "        )\n",
    "        \n",
    "        # Third convolutional layer\n",
    "        self.third_conv = nn.Sequential(\n",
    "            nn.Conv1d(self.in_channels[2], self.out_channels[2], self.kernel_sizes[2], padding=self.padding[2]), \n",
    "            #nn.BatchNorm1d(self.out_channels[2]),\n",
    "            self.act(inplace = True),\n",
    "            nn.Dropout(self.drop_p, inplace = False),\n",
    "            nn.AvgPool1d(self.pool_division)\n",
    "        )\n",
    "\n",
    "\n",
    "        # Flatten layer\n",
    "        self.flatten = nn.Flatten(start_dim=-2)\n",
    "        \n",
    "        # Liner dimension after 2 convolutional layers\n",
    "        self.lin_dim = int((((self.seq_length-self.kernel_sizes[0]+1)/self.pool_division+1-self.kernel_sizes[1])/self.pool_division+1-self.kernel_sizes[2])/self.pool_division)\n",
    "        \n",
    "        # linear encoder\n",
    "        self.encoder_lin= nn.Sequential(\n",
    "                # First linear layer\n",
    "                nn.Linear(self.out_channels[2]*self.lin_dim, self.linear),\n",
    "                #nn.BatchNorm1d(self.linear),\n",
    "                self.act(inplace = True),\n",
    "                nn.Dropout(self.drop_p, inplace = False),\n",
    "                # Second linear layer\n",
    "                nn.Linear(self.linear, self.encoded_space_dim)\n",
    "            )\n",
    "        # # normalizing latent space layer\n",
    "        #self.normalize_enc = nn.BatchNorm1d(self.encoded_space_dim)\n",
    "\n",
    "\n",
    "\n",
    "    def forward(self, x):\n",
    "        x =x.view(-1,1,200)\n",
    "        x = self.first_conv(x)\n",
    "        x = self.second_conv(x)\n",
    "        x = self.third_conv(x)\n",
    "        x = self.flatten(x)\n",
    "        x = self.encoder_lin(x)\n",
    "        return x.view(-1,3)\n",
    "        #return x.squeeze()\n",
    "    \n",
    "embedding_net = SummaryNet()\n"
   ]
  },
  {
   "cell_type": "code",
   "execution_count": 6,
   "metadata": {},
   "outputs": [],
   "source": [
    "# input_size = 200\n",
    "# num_classes = 3\n",
    "\n",
    "# class SummaryNet(nn.Module):\n",
    "#     def __init__(self):\n",
    "#         super().__init__()\n",
    "#         # 1D convolutional layer\n",
    "#         self.conv1 = nn.Conv1d(in_channels=1, out_channels=6, kernel_size=5, padding=2)\n",
    "#         # Maxpool layer\n",
    "#         self.pool = nn.MaxPool1d(kernel_size=10, stride = 10)\n",
    "#         # Fully connected layer\n",
    "#         self.fc = nn.Linear(in_features=6 * (input_size // 10), out_features=num_classes)\n",
    "\n",
    "#     def forward(self, x):\n",
    "#         # Assuming x is of shape (batch_size, 1, input_size)\n",
    "#         x =x.view(-1,1,200)\n",
    "#         x = self.conv1(x)\n",
    "#         x = self.pool(x)\n",
    "#         # Flatten the output before passing it to the fully connected layer\n",
    "#         x = x.view(-1,6*20)\n",
    "#         x = self.fc(x)\n",
    "#         return x\n",
    "\n",
    "# embedding_net = SummaryNet()\n"
   ]
  },
  {
   "cell_type": "code",
   "execution_count": 7,
   "metadata": {},
   "outputs": [],
   "source": [
    "# instantiate the neural density estimator\n",
    "neural_posterior = utils.posterior_nn(\n",
    "    model=\"maf\", embedding_net=embedding_net, hidden_features=10, num_transforms=2\n",
    ")\n",
    "\n",
    "# setup the inference procedure with the SNPE-C procedure\n",
    "inference = SNPE(prior=prior, density_estimator=neural_posterior)"
   ]
  },
  {
   "cell_type": "code",
   "execution_count": 9,
   "metadata": {},
   "outputs": [
    {
     "data": {
      "text/plain": [
       "[<matplotlib.lines.Line2D at 0x2b0963dc0>]"
      ]
     },
     "execution_count": 9,
     "metadata": {},
     "output_type": "execute_result"
    },
    {
     "data": {
      "image/png": "[encoded data removed]",
      "text/plain": [
       "<Figure size 640x480 with 1 Axes>"
      ]
     },
     "metadata": {},
     "output_type": "display_data"
    }
   ],
   "source": [
    "# Example usage:\n",
    "c = 5.3\n",
    "noise_std = 0.015  # Standard deviation of the additive noise\n",
    "\n",
    "x_o = generate_ar1_time_series([c, noise_std])\n",
    "plt.plot(x_o, label='Time Series Data', color='blue', marker='o', linestyle='-')"
   ]
  },
  {
   "cell_type": "code",
   "execution_count": 10,
   "metadata": {},
   "outputs": [
    {
     "name": "stderr",
     "output_type": "stream",
     "text": [
      "Running 1000 simulations.: 100%|██████████| 1000/1000 [00:02<00:00, 436.44it/s]\n"
     ]
    },
    {
     "name": "stdout",
     "output_type": "stream",
     "text": [
      " Neural network successfully converged after 108 epochs."
     ]
    },
    {
     "name": "stderr",
     "output_type": "stream",
     "text": [
      "Drawing 1000 posterior samples: 1080it [00:00, 137372.20it/s]           \n",
      "Running 1000 simulations.: 100%|██████████| 1000/1000 [00:02<00:00, 439.78it/s]\n"
     ]
    },
    {
     "name": "stdout",
     "output_type": "stream",
     "text": [
      "Using SNPE-C with atomic loss\n",
      " Neural network successfully converged after 146 epochs."
     ]
    },
    {
     "name": "stderr",
     "output_type": "stream",
     "text": [
      "Drawing 1000 posterior samples: 1065it [00:00, 12675.86it/s]            \n",
      "Running 1000 simulations.: 100%|██████████| 1000/1000 [00:02<00:00, 440.55it/s]\n"
     ]
    },
    {
     "name": "stdout",
     "output_type": "stream",
     "text": [
      "Using SNPE-C with atomic loss\n",
      " Neural network successfully converged after 36 epochs."
     ]
    },
    {
     "name": "stderr",
     "output_type": "stream",
     "text": [
      "Drawing 1000 posterior samples:   0%|          | 0/1000 [00:00<?, ?it/s]WARNING:root:Only 0.993% proposal samples are\n",
      "                    accepted. It may take a long time to collect the remaining\n",
      "                    593 samples. Consider interrupting (Ctrl-C) and switching to\n",
      "                    `build_posterior(..., sample_with='mcmc')`.\n",
      "Drawing 1000 posterior samples: 1031it [00:00, 10315.57it/s]            \n",
      "Running 1000 simulations.: 100%|██████████| 1000/1000 [00:02<00:00, 440.35it/s]\n"
     ]
    },
    {
     "name": "stdout",
     "output_type": "stream",
     "text": [
      "Using SNPE-C with atomic loss\n",
      " Neural network successfully converged after 49 epochs."
     ]
    },
    {
     "name": "stderr",
     "output_type": "stream",
     "text": [
      "Drawing 1000 posterior samples:   0%|          | 0/1000 [00:00<?, ?it/s]WARNING:root:Only 0.827% proposal samples are\n",
      "                    accepted. It may take a long time to collect the remaining\n",
      "                    909 samples. Consider interrupting (Ctrl-C) and switching to\n",
      "                    `build_posterior(..., sample_with='mcmc')`.\n",
      "Drawing 1000 posterior samples: 1003it [00:00, 9430.83it/s]                         \n",
      "Running 1000 simulations.: 100%|██████████| 1000/1000 [00:02<00:00, 440.70it/s]\n"
     ]
    },
    {
     "name": "stdout",
     "output_type": "stream",
     "text": [
      "Using SNPE-C with atomic loss\n",
      " Neural network successfully converged after 29 epochs."
     ]
    },
    {
     "name": "stderr",
     "output_type": "stream",
     "text": [
      "Drawing 1000 posterior samples:   0%|          | 0/1000 [00:00<?, ?it/s]WARNING:root:Only 0.718% proposal samples are\n",
      "                    accepted. It may take a long time to collect the remaining\n",
      "                    921 samples. Consider interrupting (Ctrl-C) and switching to\n",
      "                    `build_posterior(..., sample_with='mcmc')`.\n",
      "Drawing 1000 posterior samples: 1030it [00:00, 10946.72it/s]            \n",
      "Running 1000 simulations.: 100%|██████████| 1000/1000 [00:02<00:00, 444.02it/s]\n"
     ]
    },
    {
     "name": "stdout",
     "output_type": "stream",
     "text": [
      "Using SNPE-C with atomic loss\n",
      " Neural network successfully converged after 41 epochs."
     ]
    },
    {
     "name": "stderr",
     "output_type": "stream",
     "text": [
      "Drawing 1000 posterior samples:   0%|          | 0/1000 [00:00<?, ?it/s]WARNING:root:Only 0.782% proposal samples are\n",
      "                    accepted. It may take a long time to collect the remaining\n",
      "                    914 samples. Consider interrupting (Ctrl-C) and switching to\n",
      "                    `build_posterior(..., sample_with='mcmc')`.\n",
      "Drawing 1000 posterior samples: 1015it [00:00, 7716.10it/s]                         \n",
      "Running 1000 simulations.: 100%|██████████| 1000/1000 [00:02<00:00, 440.27it/s]\n"
     ]
    },
    {
     "name": "stdout",
     "output_type": "stream",
     "text": [
      "Using SNPE-C with atomic loss\n",
      " Neural network successfully converged after 50 epochs."
     ]
    }
   ],
   "source": [
    "num_rounds = 7\n",
    "# The specific observation we want to focus the inference on.\n",
    "\n",
    "posteriors = []\n",
    "proposal = prior\n",
    "\n",
    "for _ in range(num_rounds):\n",
    "    theta, x = simulate_for_sbi(simulator, proposal, num_simulations=1000)\n",
    "\n",
    "    # In `SNLE` and `SNRE`, you should not pass the `proposal` to `.append_simulations()`\n",
    "    density_estimator = inference.append_simulations(\n",
    "        theta, x, proposal=proposal\n",
    "    ).train()\n",
    "    posterior = inference.build_posterior(density_estimator)\n",
    "    posteriors.append(posterior)\n",
    "    proposal = posterior.set_default_x(x_o)"
   ]
  },
  {
   "cell_type": "code",
   "execution_count": 23,
   "metadata": {},
   "outputs": [
    {
     "name": "stderr",
     "output_type": "stream",
     "text": [
      "Drawing 10000 posterior samples:   0%|          | 0/10000 [00:00<?, ?it/s]WARNING:root:Only 0.680% proposal samples are\n",
      "                    accepted. It may take a long time to collect the remaining\n",
      "                    9932 samples. Consider interrupting (Ctrl-C) and switching to\n",
      "                    `build_posterior(..., sample_with='mcmc')`.\n",
      "Drawing 10000 posterior samples: 10009it [00:01, 7564.86it/s]                          \n"
     ]
    },
    {
     "data": {
      "image/png": "[encoded data removed]",
      "text/plain": [
       "<Figure size 500x500 with 4 Axes>"
      ]
     },
     "metadata": {},
     "output_type": "display_data"
    }
   ],
   "source": [
    "posterior_samples = posteriors[6].sample((10000,), x=x_o)\n",
    "\n",
    "# plot posterior samples\n",
    "_ = analysis.pairplot(\n",
    "    posterior_samples, limits=[[4.2, 5.8], [0.005, 0.025]], figsize=(5, 5)\n",
    ")"
   ]
  },
  {
   "cell_type": "code",
   "execution_count": 8,
   "metadata": {},
   "outputs": [
    {
     "name": "stderr",
     "output_type": "stream",
     "text": [
      "Running 2000 simulations.:   0%|          | 0/2000 [00:00<?, ?it/s]"
     ]
    },
    {
     "name": "stderr",
     "output_type": "stream",
     "text": [
      "Running 2000 simulations.: 100%|██████████| 2000/2000 [00:04<00:00, 440.53it/s]\n"
     ]
    }
   ],
   "source": [
    "theta, x = simulate_for_sbi(simulator, proposal=prior, num_simulations=2000)"
   ]
  },
  {
   "cell_type": "code",
   "execution_count": 9,
   "metadata": {},
   "outputs": [
    {
     "name": "stdout",
     "output_type": "stream",
     "text": [
      " Neural network successfully converged after 192 epochs."
     ]
    }
   ],
   "source": [
    "density_estimator = inference.append_simulations(theta, x).train()"
   ]
  },
  {
   "cell_type": "code",
   "execution_count": 10,
   "metadata": {},
   "outputs": [],
   "source": [
    "posterior = inference.build_posterior(density_estimator)"
   ]
  },
  {
   "cell_type": "markdown",
   "metadata": {},
   "source": [
    "Once we have obtained the posterior, we can `.sample()`, `.log_prob()`, or `.pairplot()` in the same way as for the simple interface."
   ]
  },
  {
   "cell_type": "code",
   "execution_count": 11,
   "metadata": {},
   "outputs": [],
   "source": [
    "# Example usage:\n",
    "c = 5.3\n",
    "noise_std = 0.015  # Standard deviation of the additive noise\n",
    "\n",
    "x_o = generate_ar1_time_series([c, noise_std])\n",
    "plt.plot(x_o, label='Time Series Data', color='blue', marker='o', linestyle='-')"
   ]
  },
  {
   "cell_type": "code",
   "execution_count": 13,
   "metadata": {},
   "outputs": [
    {
     "name": "stderr",
     "output_type": "stream",
     "text": [
      "Drawing 10000 posterior samples: 10492it [00:00, 836421.37it/s]           \n"
     ]
    },
    {
     "data": {
      "image/png": "[encoded data removed]",
      "text/plain": [
       "<Figure size 500x500 with 4 Axes>"
      ]
     },
     "metadata": {},
     "output_type": "display_data"
    }
   ],
   "source": [
    "posterior_samples = posterior.sample((10000,), x=x_o)\n",
    "\n",
    "# plot posterior samples\n",
    "_ = analysis.pairplot(\n",
    "    posterior_samples, limits=[[4.2, 5.8], [0.005, 0.025]], figsize=(5, 5)\n",
    ")"
   ]
  },
  {
   "cell_type": "markdown",
   "metadata": {},
   "source": [
    "We can always print the posterior to know how it was trained:"
   ]
  },
  {
   "cell_type": "code",
   "execution_count": 19,
   "metadata": {},
   "outputs": [],
   "source": [
    "proposal = posterior.set_default_x(x_o)"
   ]
  },
  {
   "cell_type": "code",
   "execution_count": 20,
   "metadata": {},
   "outputs": [
    {
     "name": "stderr",
     "output_type": "stream",
     "text": [
      "Drawing 1000 posterior samples: 1091it [00:00, 35573.41it/s]            \n",
      "Running 1000 simulations.: 100%|██████████| 1000/1000 [00:02<00:00, 439.64it/s]\n"
     ]
    }
   ],
   "source": [
    "theta, x = simulate_for_sbi(simulator, proposal, num_simulations=1000)"
   ]
  },
  {
   "cell_type": "code",
   "execution_count": 21,
   "metadata": {},
   "outputs": [
    {
     "name": "stdout",
     "output_type": "stream",
     "text": [
      "Using SNPE-C with atomic loss\n",
      " Neural network successfully converged after 51 epochs."
     ]
    }
   ],
   "source": [
    "density_estimator = inference.append_simulations(\n",
    "        theta, x, proposal=proposal).train()"
   ]
  },
  {
   "cell_type": "code",
   "execution_count": 22,
   "metadata": {},
   "outputs": [],
   "source": [
    "posterior = inference.build_posterior(density_estimator)"
   ]
  },
  {
   "cell_type": "code",
   "execution_count": 23,
   "metadata": {},
   "outputs": [
    {
     "name": "stderr",
     "output_type": "stream",
     "text": [
      "Drawing 10000 posterior samples: 10011it [00:00, 20366.02it/s]                          \n"
     ]
    },
    {
     "data": {
      "image/png": "[encoded data removed]",
      "text/plain": [
       "<Figure size 500x500 with 4 Axes>"
      ]
     },
     "metadata": {},
     "output_type": "display_data"
    }
   ],
   "source": [
    "posterior_samples = posterior.sample((10000,), x=x_o)\n",
    "\n",
    "# plot posterior samples\n",
    "_ = analysis.pairplot(\n",
    "    posterior_samples, limits=[[4.2, 5.8], [0.005, 0.025]], figsize=(5, 5)\n",
    ")"
   ]
  },
  {
   "cell_type": "code",
   "execution_count": 18,
   "metadata": {},
   "outputs": [
    {
     "name": "stderr",
     "output_type": "stream",
     "text": [
      "Drawing 10000 posterior samples: 10113it [00:00, 47934.82it/s]                          \n"
     ]
    },
    {
     "data": {
      "image/png": "[encoded data removed]",
      "text/plain": [
       "<Figure size 500x500 with 4 Axes>"
      ]
     },
     "metadata": {},
     "output_type": "display_data"
    }
   ],
   "source": [
    "posterior_samples = posterior.sample((10000,), x=x_o)\n",
    "\n",
    "# plot posterior samples\n",
    "_ = analysis.pairplot(\n",
    "    posterior_samples, limits=[[4.2, 5.8], [0.005, 0.025]], figsize=(5, 5)\n",
    ")"
   ]
  },
  {
   "cell_type": "code",
   "execution_count": 51,
   "metadata": {},
   "outputs": [],
   "source": [
    "AR1PostSampleArray = AR1PostSample.numpy()\n",
    "np.savetxt(\"test.txt\", AR1PostSampleArray, delimiter=',')"
   ]
  }
 ],
 "metadata": {
  "kernelspec": {
   "display_name": "Python 3 (ipykernel)",
   "language": "python",
   "name": "python3"
  },
  "language_info": {
   "codemirror_mode": {
    "name": "ipython",
    "version": 3
   },
   "file_extension": ".py",
   "mimetype": "text/x-python",
   "name": "python",
   "nbconvert_exporter": "python",
   "pygments_lexer": "ipython3",
   "version": "3.9.18"
  }
 },
 "nbformat": 4,
 "nbformat_minor": 4
}
